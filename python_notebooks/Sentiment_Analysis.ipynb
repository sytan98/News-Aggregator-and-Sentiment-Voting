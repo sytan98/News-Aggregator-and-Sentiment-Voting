{
 "cells": [
  {
   "cell_type": "code",
   "execution_count": 11,
   "metadata": {},
   "outputs": [
    {
     "output_type": "stream",
     "name": "stderr",
     "text": [
      "[nltk_data] Downloading package vader_lexicon to\n[nltk_data]     C:\\Users\\tansi\\AppData\\Roaming\\nltk_data...\n[nltk_data]   Package vader_lexicon is already up-to-date!\n"
     ]
    }
   ],
   "source": [
    "import pandas as pd \n",
    "from nltk.sentiment.vader import SentimentIntensityAnalyzer as SIA\n",
    "nltk.download('vader_lexicon')\n",
    "from pprint import pprint"
   ]
  },
  {
   "cell_type": "code",
   "execution_count": 8,
   "metadata": {},
   "outputs": [],
   "source": [
    "cna_headlines = pd.read_csv('cna_headlines.csv')\n",
    "headlines = cna_headlines['headlines'].to_list()"
   ]
  },
  {
   "cell_type": "code",
   "execution_count": 13,
   "metadata": {},
   "outputs": [
    {
     "output_type": "stream",
     "name": "stdout",
     "text": [
      "[{'compound': -0.296,\n  'headline': 'No visiting during Chinese New Year, reunion dinner among those in same household '\n              'only: Putrajaya',\n  'neg': 0.136,\n  'neu': 0.864,\n  'pos': 0.0},\n {'compound': -0.3182,\n  'headline': 'Schools suspend high-element outdoor activities after 15-year-old student dies '\n              'following incident at SAFRA Yishun',\n  'neg': 0.15,\n  'neu': 0.85,\n  'pos': 0.0},\n {'compound': 0.0,\n  'headline': 'Golden Village Yishun, Sun Plaza among locations added to list of places visited by '\n              'COVID-19 cases while infectious',\n  'neg': 0.0,\n  'neu': 1.0,\n  'pos': 0.0},\n {'compound': 0.0,\n  'headline': '22 new COVID-19 cases in Singapore, all imported',\n  'neg': 0.0,\n  'neu': 1.0,\n  'pos': 0.0},\n {'compound': 0.0,\n  'headline': \"Reciprocate government's gesture of not shutting down economy by complying with \"\n              'SOPs, urges Malaysian PM Muhyiddin',\n  'neg': 0.0,\n  'neu': 1.0,\n  'pos': 0.0},\n {'compound': -0.296,\n  'headline': 'Aunty no more: The freshest way to wear gold accessories this Chinese New Year',\n  'neg': 0.145,\n  'neu': 0.855,\n  'pos': 0.0},\n {'compound': -0.25,\n  'headline': 'Workers from Malaysia, China resigned to spending Chinese New Year in Singapore '\n              'amid COVID-19 travel restrictions',\n  'neg': 0.118,\n  'neu': 0.882,\n  'pos': 0.0},\n {'compound': 0.0,\n  'headline': 'Operations resume for many Singapore businesses in Myanmar as they closely monitor '\n              'situation',\n  'neg': 0.0,\n  'neu': 1.0,\n  'pos': 0.0},\n {'compound': 0.4939,\n  'headline': 'HDB launches more than 3,700 BTO flats, including first Community Care Apartments '\n              'for the elderly',\n  'neg': 0.0,\n  'neu': 0.814,\n  'pos': 0.186},\n {'compound': -0.4215,\n  'headline': 'Twelve Cupcakes co-founder Jaime Teo pleads guilty to underpaying foreign workers',\n  'neg': 0.219,\n  'neu': 0.781,\n  'pos': 0.0},\n {'compound': 0.4767,\n  'headline': 'World faces around 4,000 coronavirus variants, prompting search for improved '\n              'vaccines, UK minister says',\n  'neg': 0.0,\n  'neu': 0.807,\n  'pos': 0.193},\n {'compound': 0.0,\n  'headline': 'Grab aims to have all drivers, delivery partners vaccinated against COVID-19 by end '\n              'of next year',\n  'neg': 0.0,\n  'neu': 1.0,\n  'pos': 0.0},\n {'compound': 0.0,\n  'headline': 'WHO experts in Wuhan discussed COVID-19 lab theory with Chinese scientists, says '\n              'team leader',\n  'neg': 0.0,\n  'neu': 1.0,\n  'pos': 0.0},\n {'compound': 0.0,\n  'headline': 'China bat caves need exploring in search for COVID-19 origins, WHO team member says',\n  'neg': 0.0,\n  'neu': 1.0,\n  'pos': 0.0},\n {'compound': 0.0,\n  'headline': 'GameStop’s rollercoaster: What really went down and could it happen here?',\n  'neg': 0.0,\n  'neu': 1.0,\n  'pos': 0.0},\n {'compound': 0.3612,\n  'headline': 'Eager to eat out, Malaysians get a taste for drive-in dining',\n  'neg': 0.0,\n  'neu': 0.783,\n  'pos': 0.217},\n {'compound': -0.3182,\n  'headline': 'Singapore Airlines posts S$142 million loss in Q3 2020 as passenger numbers plunge '\n              '97.6%',\n  'neg': 0.15,\n  'neu': 0.85,\n  'pos': 0.0}]\n"
     ]
    }
   ],
   "source": [
    "sia = SIA()\n",
    "results = []\n",
    "\n",
    "for line in headlines:\n",
    "    pol_score = sia.polarity_scores(line)\n",
    "    pol_score['headline'] = line\n",
    "    results.append(pol_score)\n",
    "\n",
    "pprint(results, width=100)"
   ]
  },
  {
   "cell_type": "code",
   "execution_count": null,
   "metadata": {},
   "outputs": [],
   "source": []
  }
 ],
 "metadata": {
  "kernelspec": {
   "name": "myenv",
   "display_name": "myenv",
   "language": "python"
  },
  "language_info": {
   "codemirror_mode": {
    "name": "ipython",
    "version": 3
   },
   "file_extension": ".py",
   "mimetype": "text/x-python",
   "name": "python",
   "nbconvert_exporter": "python",
   "pygments_lexer": "ipython3",
   "version": "3.7.9-final"
  }
 },
 "nbformat": 4,
 "nbformat_minor": 4
}