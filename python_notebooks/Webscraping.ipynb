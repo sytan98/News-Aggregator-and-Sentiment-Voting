{
 "metadata": {
  "language_info": {
   "codemirror_mode": {
    "name": "ipython",
    "version": 3
   },
   "file_extension": ".py",
   "mimetype": "text/x-python",
   "name": "python",
   "nbconvert_exporter": "python",
   "pygments_lexer": "ipython3",
   "version": "3.7.9-final"
  },
  "orig_nbformat": 2,
  "kernelspec": {
   "name": "myenv",
   "display_name": "myenv",
   "language": "python"
  }
 },
 "nbformat": 4,
 "nbformat_minor": 2,
 "cells": [
  {
   "cell_type": "code",
   "execution_count": 1,
   "metadata": {},
   "outputs": [],
   "source": [
    "import requests\n",
    "from bs4 import BeautifulSoup\n",
    "import pandas as pd\n",
    "import os\n"
   ]
  },
  {
   "cell_type": "code",
   "execution_count": 2,
   "metadata": {},
   "outputs": [
    {
     "output_type": "stream",
     "name": "stdout",
     "text": [
      "<Response [200]>\n"
     ]
    },
    {
     "output_type": "execute_result",
     "data": {
      "text/plain": [
       "True"
      ]
     },
     "metadata": {},
     "execution_count": 2
    }
   ],
   "source": [
    "r1= requests.get(\"https://www.channelnewsasia.com/\")\n",
    "print(r1)\n",
    "r1.status_code == 200"
   ]
  },
  {
   "cell_type": "code",
   "execution_count": 6,
   "metadata": {},
   "outputs": [
    {
     "output_type": "stream",
     "name": "stdout",
     "text": [
      "https://www.channelnewsasia.com/news/singapore/man-jailed-for-breaching-covid-19-rules-has-pr-status-revoked-14117234\nhttps://www.channelnewsasia.com/news/asia/parti-liyani-interview-innocent-acquittal-migrant-workers-14111086\nhttps://www.channelnewsasia.com/news/singapore/10-charged-with-breaking-covid-19-rules-by-gathering-on-yacht-14118032\nhttps://www.channelnewsasia.com/news/singapore/power-assisted-bicycle-fires-double-in-2020-pmd-scdf-14117122\nhttps://www.channelnewsasia.com/news/business/companies-overseas-expansion-productivity-covid-19-esg-14117562\nhttps://www.channelnewsasia.com/news/lifestyle/best-restaurants-sydney-new-south-wales-australia-14087026\nhttps://www.channelnewsasia.com/news/asia/another-senior-aung-san-suu-kyi-aide-arrested-myanmar-win-htein-14116662\nhttps://www.channelnewsasia.com/news/world/trump-rejects-call-to-testify-at-his-impeachment-trial-14115386\nhttps://www.channelnewsasia.com/news/singapore/schools-suspend-high-element-activities-acsi-boy-dies-safra-moe-14112960\nhttps://www.channelnewsasia.com/news/business/us-regulators-review-stock-market-gamestop-reddit-short-14116570\nhttps://www.channelnewsasia.com/news/commentary/gamestop-what-happen-stock-market-rise-share-price-manipulation-14110314\nhttps://www.channelnewsasia.com/news/asia/facebook-myanmar-blocked-military-government-aung-san-suu-kyi-14117254\nhttps://www.channelnewsasia.com/news/asia/taiwan-guyana-revokes-trade-office-deal-china-bullying-to-blame-14117054\nhttps://www.channelnewsasia.com/news/business/thai-bev-singapore-ipo-billion-thailand-beverage-beerco-14117060\nhttps://www.channelnewsasia.com/news/singapore/sengkang-punggol-lrt-17-new-two-car-trains-lta-depot-expand-14118006\nhttps://www.channelnewsasia.com/news/asia/japan-kirin-terminate-myanmar-beer-alliance-after-coup-14117312\nhttps://www.channelnewsasia.com/news/business/indonesia-posts-first-annual-economic-contraction-since-1998-14117560\n"
     ]
    }
   ],
   "source": [
    "soup = BeautifulSoup(r1.content, 'html.parser') \n",
    "\n",
    "div_container = soup.find('div', class_='section__content is-idle')  \n",
    "\n",
    "headlines = []\n",
    "links = []\n",
    "for headline in div_container.find_all('a', class_='teaser__title'):\n",
    "    headlines.append(headline.get_text())\n",
    "    print('https://www.channelnewsasia.com' + headline['href'])"
   ]
  },
  {
   "cell_type": "code",
   "execution_count": 22,
   "metadata": {},
   "outputs": [],
   "source": [
    "\n",
    "\n",
    "data = {\"headlines\": headlines}\n",
    "df = pd.DataFrame(data=data)\n"
   ]
  },
  {
   "cell_type": "code",
   "execution_count": 25,
   "metadata": {},
   "outputs": [
    {
     "output_type": "stream",
     "name": "stdout",
     "text": [
      "file doesnt exist\n"
     ]
    }
   ],
   "source": [
    "if not os.path.isfile('cna_headlines.csv'):\n",
    "    print(\"file doesnt exist\")\n",
    "    df.to_csv(\"cna_headlines.csv\")\n",
    "else:\n",
    "    with open(\"cna_headlines.csv\", 'a') as f:\n",
    "        df.to_csv(f, header=False)"
   ]
  },
  {
   "cell_type": "code",
   "execution_count": 21,
   "metadata": {
    "tags": []
   },
   "outputs": [
    {
     "output_type": "stream",
     "name": "stdout",
     "text": [
      "<Response [200]>\n"
     ]
    },
    {
     "output_type": "error",
     "ename": "AttributeError",
     "evalue": "'Response' object has no attribute 'page_source'",
     "traceback": [
      "\u001b[1;31m---------------------------------------------------------------------------\u001b[0m",
      "\u001b[1;31mAttributeError\u001b[0m                            Traceback (most recent call last)",
      "\u001b[1;32m<ipython-input-21-04f7eac89bd9>\u001b[0m in \u001b[0;36m<module>\u001b[1;34m\u001b[0m\n\u001b[0;32m      1\u001b[0m \u001b[0mr2\u001b[0m\u001b[1;33m=\u001b[0m \u001b[0mrequests\u001b[0m\u001b[1;33m.\u001b[0m\u001b[0mget\u001b[0m\u001b[1;33m(\u001b[0m\u001b[1;34m\"https://www.todayonline.com/\"\u001b[0m\u001b[1;33m)\u001b[0m\u001b[1;33m\u001b[0m\u001b[1;33m\u001b[0m\u001b[0m\n\u001b[0;32m      2\u001b[0m \u001b[0mprint\u001b[0m\u001b[1;33m(\u001b[0m\u001b[0mr2\u001b[0m\u001b[1;33m)\u001b[0m\u001b[1;33m\u001b[0m\u001b[1;33m\u001b[0m\u001b[0m\n\u001b[1;32m----> 3\u001b[1;33m \u001b[0msoup2\u001b[0m \u001b[1;33m=\u001b[0m \u001b[0mBeautifulSoup\u001b[0m\u001b[1;33m(\u001b[0m\u001b[0mr2\u001b[0m\u001b[1;33m.\u001b[0m\u001b[0mpage_source\u001b[0m\u001b[1;33m,\u001b[0m \u001b[1;34m'html.parser'\u001b[0m\u001b[1;33m)\u001b[0m\u001b[1;33m\u001b[0m\u001b[1;33m\u001b[0m\u001b[0m\n\u001b[0m\u001b[0;32m      4\u001b[0m \u001b[1;31m# print(soup2)\u001b[0m\u001b[1;33m\u001b[0m\u001b[1;33m\u001b[0m\u001b[1;33m\u001b[0m\u001b[0m\n\u001b[0;32m      5\u001b[0m \u001b[1;32mimport\u001b[0m \u001b[0mre\u001b[0m\u001b[1;33m\u001b[0m\u001b[1;33m\u001b[0m\u001b[0m\n",
      "\u001b[1;31mAttributeError\u001b[0m: 'Response' object has no attribute 'page_source'"
     ]
    }
   ],
   "source": [
    "r2= requests.get(\"https://www.todayonline.com/\")\n",
    "print(r2)\n",
    "soup2 = BeautifulSoup(r2.page_source, 'html.parser') \n",
    "# print(soup2)\n",
    "import re\n",
    "\n",
    "regex = re.compile('today-page-home-v2__row*')\n",
    "section_container = soup2.find('div', class_=\"todayonline\")  \n",
    "print(section_container)\n",
    "# todays_headlines = []\n",
    "# for headline in section_container.find_all('a', attrs={'section-title':'Hotnews'}):\n",
    "#     todays_headlines.append(headline.get_text())"
   ]
  },
  {
   "cell_type": "code",
   "execution_count": 10,
   "metadata": {
    "tags": []
   },
   "outputs": [
    {
     "output_type": "stream",
     "name": "stdout",
     "text": [
      "<Response [200]>\n('74 people fined at beaches & parks, 3 F&B outlets ordered to close for breaching Covid-19 rules', 'https://mothership.sg/2021/02/74-fined-3-fnb-close-covid-breach/')\n('Chinatown Chinese New Year street light-up will be turned off on weekends to deter crowds', 'https://mothership.sg/2021/02/chinatown-cny-crowded/')\n(\"Fried mantou the latest item to be put into V-day bouquet for S$35 at S'pore online store\", 'https://mothership.sg/2021/02/fried-mantou-bouquet/')\n(\"S'pore PR status revoked after going to jail for Covid-19 offences\", 'https://mothership.sg/2021/02/singapore-pr-revoked-covid-19-go-out/')\n('Reticulated python curled up on pedestrian footpath along Mandai Road', 'https://mothership.sg/2021/02/python-mandai/')\n('Northpoint City, Sun Plaza & GV Yishun visited by infectious Covid-19 cases', 'https://mothership.sg/2021/02/covid-19-feb-4-update-2/')\n(\"Family of man on trial for 4-year-old stepdaughter's murder says he treated her & biological children equally\", 'https://mothership.sg/2021/02/man-kill-stepdaughter-treat-children-equally/')\n(\"S'pore student, 15, who died after school camp activity 'lost his footing' & was suspended by safety harness\", 'https://mothership.sg/2021/02/moe-response-student-death-high-elements/')\n('SIA Group records net loss of S$142 million in 3rd quarter', 'https://mothership.sg/2021/02/sia-group-loss-2020-142/')\n(\"Punny mahjong t-shirts launching on S'pore web store on Feb. 4, 9pm\", 'https://mothership.sg/2021/02/mfw-mahjong-t-shirts/')\n"
     ]
    }
   ],
   "source": [
    "import re\n",
    "r3= requests.get(\"https://mothership.sg/\")\n",
    "print(r3)\n",
    "soup3 = BeautifulSoup(r3.content, 'html.parser') \n",
    "# print(soup3)\n",
    "\n",
    "regex = re.compile('ind-article.*')\n",
    "section_container = soup3.find('div', {'id':\"latest-news\"})  \n",
    "articles = section_container.find_all('div', class_=regex)  \n",
    "mothership_headlines = []\n",
    "mothership_links = []\n",
    "for div in articles:\n",
    "    mothership_links.append(div.find('a')['href'])\n",
    "    mothership_headlines.append(div.find('h1').get_text())\n",
    "\n",
    "for i in zip(mothership_headlines, mothership_links):\n",
    "    print(i)"
   ]
  },
  {
   "cell_type": "code",
   "execution_count": 3,
   "metadata": {},
   "outputs": [
    {
     "output_type": "error",
     "ename": "TypeError",
     "evalue": "strftime() missing required argument 'format' (pos 1)",
     "traceback": [
      "\u001b[1;31m---------------------------------------------------------------------------\u001b[0m",
      "\u001b[1;31mTypeError\u001b[0m                                 Traceback (most recent call last)",
      "\u001b[1;32m<ipython-input-3-8eb07ac74921>\u001b[0m in \u001b[0;36m<module>\u001b[1;34m\u001b[0m\n\u001b[0;32m      1\u001b[0m \u001b[1;32mfrom\u001b[0m \u001b[0mdatetime\u001b[0m \u001b[1;32mimport\u001b[0m \u001b[0mdatetime\u001b[0m\u001b[1;33m\u001b[0m\u001b[1;33m\u001b[0m\u001b[0m\n\u001b[0;32m      2\u001b[0m \u001b[1;33m\u001b[0m\u001b[0m\n\u001b[1;32m----> 3\u001b[1;33m \u001b[0mdatetime\u001b[0m\u001b[1;33m.\u001b[0m\u001b[0mutcnow\u001b[0m\u001b[1;33m(\u001b[0m\u001b[1;33m)\u001b[0m\u001b[1;33m.\u001b[0m\u001b[0mstrftime\u001b[0m\u001b[1;33m(\u001b[0m\u001b[1;33m)\u001b[0m\u001b[1;33m\u001b[0m\u001b[1;33m\u001b[0m\u001b[0m\n\u001b[0m",
      "\u001b[1;31mTypeError\u001b[0m: strftime() missing required argument 'format' (pos 1)"
     ]
    }
   ],
   "source": [
    "from datetime import datetime\n",
    "\n",
    "datetime.utcnow().strftime(\"%d/%m/%y\")"
   ]
  },
  {
   "cell_type": "code",
   "execution_count": null,
   "metadata": {},
   "outputs": [],
   "source": []
  }
 ]
}